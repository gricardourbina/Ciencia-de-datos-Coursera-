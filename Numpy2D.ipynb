{
  "nbformat": 4,
  "nbformat_minor": 0,
  "metadata": {
    "colab": {
      "name": "Numpy2D.ipynb",
      "provenance": []
    },
    "kernelspec": {
      "name": "python3",
      "display_name": "Python 3"
    },
    "language_info": {
      "name": "python"
    }
  },
  "cells": [
    {
      "cell_type": "markdown",
      "metadata": {
        "id": "XVRWAWmUH_NW"
      },
      "source": [
        "**De lista a numpy array**\n"
      ]
    },
    {
      "cell_type": "code",
      "metadata": {
        "colab": {
          "base_uri": "https://localhost:8080/"
        },
        "id": "qPztbYIQH78M",
        "outputId": "4acba98c-b7e0-4062-e80e-39bb81ef9e7e"
      },
      "source": [
        "import numpy as np\n",
        "#lista a\n",
        "a=[[11,12,13],[21,22,23],[31,32,33]]\n",
        "#Convierte la lista a en array\n",
        "A=np.array(a)\n",
        "A\n",
        "A.ndim\n",
        "A.shape\n",
        "A.size\n",
        "A[0][0]\n",
        "A[0,1]\n",
        "A[0,0:2]\n",
        "A[0:2,2]\n"
      ],
      "execution_count": 2,
      "outputs": [
        {
          "output_type": "execute_result",
          "data": {
            "text/plain": [
              "array([13, 23])"
            ]
          },
          "metadata": {},
          "execution_count": 2
        }
      ]
    },
    {
      "cell_type": "markdown",
      "metadata": {
        "id": "fVxBqVKiPkNk"
      },
      "source": [
        "**Suma y Resta de \"matrices\"**\n"
      ]
    },
    {
      "cell_type": "code",
      "metadata": {
        "colab": {
          "base_uri": "https://localhost:8080/"
        },
        "id": "NIJGIRVAPk-S",
        "outputId": "78d34ca2-70a8-4ec9-d555-fe0085052e8d"
      },
      "source": [
        "X=np.array([[1,0],[0,1]])\n",
        "Y=np.array([[2,1],[1,2]])\n",
        "Z=X+Y\n",
        "Z\n"
      ],
      "execution_count": null,
      "outputs": [
        {
          "output_type": "execute_result",
          "data": {
            "text/plain": [
              "array([[3, 1],\n",
              "       [1, 3]])"
            ]
          },
          "metadata": {},
          "execution_count": 11
        }
      ]
    },
    {
      "cell_type": "markdown",
      "metadata": {
        "id": "hGpZCkaFQZKK"
      },
      "source": [
        "**Multiplicación por escalar**"
      ]
    },
    {
      "cell_type": "code",
      "metadata": {
        "colab": {
          "base_uri": "https://localhost:8080/"
        },
        "id": "UTxdeW3dQeNC",
        "outputId": "528255bc-6980-45a7-cfa1-eb388db39dda"
      },
      "source": [
        " Y=np.array([[2,1],[1,2]])\n",
        " Z=2*Y\n",
        " Z\n",
        " "
      ],
      "execution_count": null,
      "outputs": [
        {
          "output_type": "execute_result",
          "data": {
            "text/plain": [
              "array([[4, 2],\n",
              "       [2, 4]])"
            ]
          },
          "metadata": {},
          "execution_count": 12
        }
      ]
    },
    {
      "cell_type": "markdown",
      "metadata": {
        "id": "3oF1z7vi81vL"
      },
      "source": [
        "**Producto Hadamard**"
      ]
    },
    {
      "cell_type": "code",
      "metadata": {
        "colab": {
          "base_uri": "https://localhost:8080/"
        },
        "id": "dLv10iSd85NG",
        "outputId": "451a121a-5be7-47dd-989a-73972cc0f25a"
      },
      "source": [
        "X=np.array([[1,0],[0,1]])\n",
        "Y=np.array([[2,1],[1,2]])\n",
        "Z=X*Y\n",
        "Z"
      ],
      "execution_count": 3,
      "outputs": [
        {
          "output_type": "execute_result",
          "data": {
            "text/plain": [
              "array([[2, 0],\n",
              "       [0, 2]])"
            ]
          },
          "metadata": {},
          "execution_count": 3
        }
      ]
    },
    {
      "cell_type": "markdown",
      "metadata": {
        "id": "UWEfBVOv9Ful"
      },
      "source": [
        "**Multiplicación de Matrices**\n"
      ]
    },
    {
      "cell_type": "code",
      "metadata": {
        "colab": {
          "base_uri": "https://localhost:8080/"
        },
        "id": "Ujzwc66a9Lmi",
        "outputId": "43f98e6e-82a5-4811-9c0b-be3bfdf92cb6"
      },
      "source": [
        "A=np.array([[0,1,1],[1,0,1]])\n",
        "B=np.array([[1,1],[1,1],[-1,1]])\n",
        "C=np.dot(A,B)\n",
        "C"
      ],
      "execution_count": 4,
      "outputs": [
        {
          "output_type": "execute_result",
          "data": {
            "text/plain": [
              "array([[0, 2],\n",
              "       [0, 2]])"
            ]
          },
          "metadata": {},
          "execution_count": 4
        }
      ]
    }
  ]
}