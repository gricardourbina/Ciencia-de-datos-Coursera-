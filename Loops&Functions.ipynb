{
  "nbformat": 4,
  "nbformat_minor": 0,
  "metadata": {
    "colab": {
      "name": "Loops&Functions.ipynb",
      "provenance": []
    },
    "kernelspec": {
      "name": "python3",
      "display_name": "Python 3"
    },
    "language_info": {
      "name": "python"
    }
  },
  "cells": [
    {
      "cell_type": "code",
      "metadata": {
        "colab": {
          "base_uri": "https://localhost:8080/"
        },
        "id": "bDi6YdCcxbwT",
        "outputId": "067b6b7f-8ecd-4818-a5d9-0e1650e1c87f"
      },
      "source": [
        "\"\"\"A=['1','2','3']\n",
        "\n",
        "for a in A:\n",
        "\n",
        "  print(2*a)"
      ],
      "execution_count": null,
      "outputs": [
        {
          "output_type": "stream",
          "text": [
            "11\n",
            "22\n",
            "33\n"
          ],
          "name": "stdout"
        }
      ]
    },
    {
      "cell_type": "code",
      "metadata": {
        "colab": {
          "base_uri": "https://localhost:8080/"
        },
        "id": "w5SxcmSRxrgm",
        "outputId": "8a7c9d77-e244-4b2d-f39a-e56567024fcd"
      },
      "source": [
        "x=0\n",
        "while(x<2):\n",
        "  print(x)\n",
        "  x=x+1"
      ],
      "execution_count": null,
      "outputs": [
        {
          "output_type": "stream",
          "text": [
            "0\n",
            "1\n"
          ],
          "name": "stdout"
        }
      ]
    },
    {
      "cell_type": "code",
      "metadata": {
        "colab": {
          "base_uri": "https://localhost:8080/"
        },
        "id": "-QKZM6wgxvpw",
        "outputId": "1ea64e7f-5b3b-43b4-86d8-6fa01be8ca98"
      },
      "source": [
        "for i,x in enumerate(['A','B','C']):\n",
        "    print(i+1,x)"
      ],
      "execution_count": null,
      "outputs": [
        {
          "output_type": "stream",
          "text": [
            "1 A\n",
            "2 B\n",
            "3 C\n"
          ],
          "name": "stdout"
        }
      ]
    },
    {
      "cell_type": "code",
      "metadata": {
        "colab": {
          "base_uri": "https://localhost:8080/"
        },
        "id": "JN9ktAn_1t_P",
        "outputId": "6910e515-bd08-4483-c935-87b8f762715f"
      },
      "source": [
        "l=[1,3,2]\n",
        "#nl=sorted(l)\n",
        "#len(l)\n",
        "#print(nl)\n",
        "#sum(l)\n",
        "l.sort()\n",
        "l\n"
      ],
      "execution_count": null,
      "outputs": [
        {
          "output_type": "execute_result",
          "data": {
            "text/plain": [
              "[1, 2, 3]"
            ]
          },
          "metadata": {},
          "execution_count": 38
        }
      ]
    },
    {
      "cell_type": "code",
      "metadata": {
        "colab": {
          "base_uri": "https://localhost:8080/"
        },
        "id": "NKzFVm5434jl",
        "outputId": "f322cfcb-fdda-4daa-b8f5-b65ed52a9b80"
      },
      "source": [
        "\n",
        "a=float(input(\"Ingrese el número: \"))\n",
        "def add1(a):\n",
        "  b=a+1\n",
        "  return b\n",
        "c=add1(a)\n",
        "c\n"
      ],
      "execution_count": 89,
      "outputs": [
        {
          "output_type": "stream",
          "text": [
            "Ingrese el número: 5\n"
          ],
          "name": "stdout"
        },
        {
          "output_type": "execute_result",
          "data": {
            "text/plain": [
              "6.0"
            ]
          },
          "metadata": {},
          "execution_count": 89
        }
      ]
    },
    {
      "cell_type": "code",
      "metadata": {
        "id": "Uq4PSQe-7xuu"
      },
      "source": [
        "def GU():\n",
        "  pass\n",
        "GU()"
      ],
      "execution_count": null,
      "outputs": []
    },
    {
      "cell_type": "code",
      "metadata": {
        "colab": {
          "base_uri": "https://localhost:8080/"
        },
        "id": "PDOinmOI9G0A",
        "outputId": "b070f767-b443-4443-94c5-a2cf132b3957"
      },
      "source": [
        "def NoWork():\n",
        "  pass\n",
        "print(NoWork())\n"
      ],
      "execution_count": null,
      "outputs": [
        {
          "output_type": "stream",
          "text": [
            "None\n"
          ],
          "name": "stdout"
        }
      ]
    },
    {
      "cell_type": "code",
      "metadata": {
        "colab": {
          "base_uri": "https://localhost:8080/"
        },
        "id": "C7_XFHRcCKdW",
        "outputId": "32575962-b3ac-492c-c463-b1abc443405a"
      },
      "source": [
        "def Thriller():\n",
        "  date=1982\n",
        "  return(date)\n",
        "date=2017\n",
        "print(Thriller())\n",
        "#print(date)"
      ],
      "execution_count": null,
      "outputs": [
        {
          "output_type": "stream",
          "text": [
            "1982\n"
          ],
          "name": "stdout"
        }
      ]
    },
    {
      "cell_type": "code",
      "metadata": {
        "colab": {
          "base_uri": "https://localhost:8080/"
        },
        "id": "7-0B9sd_Ie-U",
        "outputId": "10140eeb-e943-4b11-c8d2-7d2f24039326"
      },
      "source": [
        "a=float(input(\"ingrese el dividendo: \"))\n",
        "b=float(input(\"ingrese el divisor: \"))\n",
        "def division(a,b):\n",
        "    c=a/b\n",
        "    return c\n",
        "d=division(a,b)\n",
        "print(d)"
      ],
      "execution_count": 95,
      "outputs": [
        {
          "output_type": "stream",
          "text": [
            "ingrese el dividendo: 8\n",
            "ingrese el divisor: 2\n",
            "4.0\n"
          ],
          "name": "stdout"
        }
      ]
    }
  ]
}