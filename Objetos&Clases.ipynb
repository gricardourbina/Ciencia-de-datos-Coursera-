{
  "nbformat": 4,
  "nbformat_minor": 0,
  "metadata": {
    "colab": {
      "name": "Objetos&Clases.ipynb",
      "provenance": []
    },
    "kernelspec": {
      "name": "python3",
      "display_name": "Python 3"
    },
    "language_info": {
      "name": "python"
    }
  },
  "cells": [
    {
      "cell_type": "code",
      "metadata": {
        "colab": {
          "base_uri": "https://localhost:8080/",
          "height": 130
        },
        "id": "m7utLYIXv-HH",
        "outputId": "85fe2884-b8c2-4149-b2f9-fad778afda26"
      },
      "source": [
        "import matplotlib.pyplot as plt\n",
        "%matplotlib inline  \n",
        "\n",
        "class Circle(object):\n",
        "  def __init__(self, radius=3, color=\"blue\"):\n",
        "    self.radius=radius\n",
        "    self.color=color\n",
        "  \"\"\"\n",
        "  def drawCircle(self):\n",
        "      plt.gca().add_patch(plt.Circle((0, 0), radius=self.radius, fc=self.color))\n",
        "      plt.axis('scaled')\n",
        "      plt.show() \n",
        "RedCircle = Circle(10, 'red')\n",
        "dir(RedCircle)\n",
        "  \n",
        "\n"
      ],
      "execution_count": 23,
      "outputs": [
        {
          "output_type": "error",
          "ename": "SyntaxError",
          "evalue": "ignored",
          "traceback": [
            "\u001b[0;36m  File \u001b[0;32m\"<ipython-input-23-9ac56b61d1b6>\"\u001b[0;36m, line \u001b[0;32m15\u001b[0m\n\u001b[0;31m    \u001b[0m\n\u001b[0m    ^\u001b[0m\n\u001b[0;31mSyntaxError\u001b[0m\u001b[0;31m:\u001b[0m EOF while scanning triple-quoted string literal\n"
          ]
        }
      ]
    },
    {
      "cell_type": "code",
      "metadata": {
        "colab": {
          "base_uri": "https://localhost:8080/"
        },
        "id": "Nm-eCSM907xI",
        "outputId": "23410552-f8f9-4178-a771-be3391bdf08b"
      },
      "source": [
        "class Hola:\n",
        "  Nombre=\"\"\n",
        "  Apellido=\"\"\n",
        "  def __init__(self, nombre, apellido):\n",
        "    print(\"Constructor de la clase\")\n",
        "    self.Nombre=nombre\n",
        "    self.Apellido=apellido\n",
        "  def saludar(self):\n",
        "    print(\"Hola \"+self.Nombre+\"\"+self.Apellido)\n",
        "  primerObjeto=Hola(\"Germán \",\"Urbina\")\n",
        "  primerObjeto.saludar()\n"
      ],
      "execution_count": 33,
      "outputs": [
        {
          "output_type": "stream",
          "name": "stdout",
          "text": [
            "Constructor de la clase\n",
            "Hola Germán Urbina\n"
          ]
        }
      ]
    },
    {
      "cell_type": "code",
      "metadata": {
        "colab": {
          "base_uri": "https://localhost:8080/",
          "height": 775
        },
        "id": "39zUcqDd6PnO",
        "outputId": "b6802777-77fd-4567-c829-39926ddc0a3b"
      },
      "source": [
        "class Circle:\n",
        "  def __init__(self, radius, color):\n",
        "    self.radius=radius\n",
        "    self.color=color \n",
        "  def add_radius(self, r):\n",
        "    self.radius=self.radius+r\n",
        "  def drawCircle(self):\n",
        "    plt.gca().add_patch(plt.Circle((0, 0), radius=self.radius, fc=self.color))\n",
        "    plt.axis('scaled')\n",
        "    plt.show()  \n",
        "Circle1=Circle(0.1, \"blue\")\n",
        "Circle1.drawCircle()\n",
        "dir(Circle1)\n",
        "\n"
      ],
      "execution_count": 46,
      "outputs": [
        {
          "output_type": "display_data",
          "data": {
            "image/png": "[encoded data removed]",
            "text/plain": [
              "<Figure size 432x288 with 1 Axes>"
            ]
          },
          "metadata": {
            "needs_background": "light"
          }
        },
        {
          "output_type": "execute_result",
          "data": {
            "text/plain": [
              "['__class__',\n",
              " '__delattr__',\n",
              " '__dict__',\n",
              " '__dir__',\n",
              " '__doc__',\n",
              " '__eq__',\n",
              " '__format__',\n",
              " '__ge__',\n",
              " '__getattribute__',\n",
              " '__gt__',\n",
              " '__hash__',\n",
              " '__init__',\n",
              " '__init_subclass__',\n",
              " '__le__',\n",
              " '__lt__',\n",
              " '__module__',\n",
              " '__ne__',\n",
              " '__new__',\n",
              " '__reduce__',\n",
              " '__reduce_ex__',\n",
              " '__repr__',\n",
              " '__setattr__',\n",
              " '__sizeof__',\n",
              " '__str__',\n",
              " '__subclasshook__',\n",
              " '__weakref__',\n",
              " 'add_radius',\n",
              " 'color',\n",
              " 'drawCircle',\n",
              " 'radius']"
            ]
          },
          "metadata": {},
          "execution_count": 46
        }
      ]
    }
  ]
}