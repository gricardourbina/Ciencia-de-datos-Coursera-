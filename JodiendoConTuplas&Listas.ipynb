{
  "nbformat": 4,
  "nbformat_minor": 0,
  "metadata": {
    "colab": {
      "name": "JodiendoConTuplas&Listas.ipynb",
      "provenance": []
    },
    "kernelspec": {
      "name": "python3",
      "display_name": "Python 3"
    },
    "language_info": {
      "name": "python"
    }
  },
  "cells": [
    {
      "cell_type": "code",
      "metadata": {
        "colab": {
          "base_uri": "https://localhost:8080/"
        },
        "id": "Z7JGz7tNwq1l",
        "outputId": "da77e532-c8fd-49a6-da15-5e22b6d929bd"
      },
      "source": [
        "ricardo=(\"Matemático\", 36, 57.8)\n",
        "print(ricardo)\n",
        "type(ricardo)\n",
        "ricardo[-1]\n",
        "tatiana=(\"Administradora\", 30, 55.2)\n",
        "pareja=ricardo+tatiana\n",
        "print(pareja)\n",
        "ricardo[0:2]\n",
        "len(pareja)\n",
        "edades=(36,30)\n",
        "orden=sorted(edades)\n",
        "print(orden)\n",
        "familia=((\"Isidro\",\"Cecilia\"),(\"Alejandro\", \"Jr\"),(\"Ricardo\", \"Tatiana\"), \"Oscar\")\n",
        "print(familia)\n",
        "familia[-4][0]\n",
        "ricardo2=[\"Matemático\", 36, 57.8]\n",
        "print(ricardo2)\n",
        "familia2=[[\"Gustavo\",\"Virginia\"],pareja]\n",
        "print(familia2)\n",
        "familia2[1][0:2]\n",
        "familia3=[[\"Fabio\",\"Blanca\"],[\"Fabian\", \"Leidy\"]]\n",
        "print(familia3)\n",
        "too_much=familia2+familia3\n",
        "print(too_much)\n",
        "ricardo2.extend([\"Profesor\",12])\n",
        "print(ricardo2)\n",
        "ricardo2.append([\"Data Analyst\",0])\n",
        "print(ricardo2)\n",
        "ricardo2[5]\n",
        "A=[1]\n",
        "A.extend([2,3,4,5,6])\n",
        "len(A)\n",
        "ricardo2[2]=58\n",
        "print(ricardo2)\n",
        "del(ricardo2[3])\n",
        "print(ricardo2)\n",
        "\"German Ricardo Urbina Forero\".split()\n",
        "\"German, Data Analyst, 36\".split(\",\")\n",
        "\n"
      ],
      "execution_count": null,
      "outputs": [
        {
          "output_type": "stream",
          "text": [
            "('Matemático', 36, 57.8)\n",
            "('Matemático', 36, 57.8, 'Administradora', 30, 55.2)\n",
            "[30, 36]\n",
            "(('Isidro', 'Cecilia'), ('Alejandro', 'Jr'), ('Ricardo', 'Tatiana'), 'Oscar')\n",
            "['Matemático', 36, 57.8]\n",
            "[['Gustavo', 'Virginia'], ('Matemático', 36, 57.8, 'Administradora', 30, 55.2)]\n",
            "[['Fabio', 'Blanca'], ['Fabian', 'Leidy']]\n",
            "[['Gustavo', 'Virginia'], ('Matemático', 36, 57.8, 'Administradora', 30, 55.2), ['Fabio', 'Blanca'], ['Fabian', 'Leidy']]\n",
            "['Matemático', 36, 57.8, 'Profesor', 12]\n",
            "['Matemático', 36, 57.8, 'Profesor', 12, ['Data Analyst', 0]]\n",
            "['Matemático', 36, 58, 'Profesor', 12, ['Data Analyst', 0]]\n",
            "['Matemático', 36, 58, 12, ['Data Analyst', 0]]\n"
          ],
          "name": "stdout"
        },
        {
          "output_type": "execute_result",
          "data": {
            "text/plain": [
              "['German', ' Data Analyst', ' 36']"
            ]
          },
          "metadata": {
            "tags": []
          },
          "execution_count": 46
        }
      ]
    },
    {
      "cell_type": "code",
      "metadata": {
        "colab": {
          "base_uri": "https://localhost:8080/",
          "height": 52
        },
        "id": "IB3Mxw1lVDNo",
        "outputId": "2ecc76ed-48ff-424a-d9fb-6ead788aee8a"
      },
      "source": [
        "name=\"LIZZ\"\n",
        "print(name[0:2])\n",
        "A=\"1934567\"\n",
        "A[1::2]\n"
      ],
      "execution_count": 1,
      "outputs": [
        {
          "output_type": "stream",
          "text": [
            "LI\n"
          ],
          "name": "stdout"
        },
        {
          "output_type": "execute_result",
          "data": {
            "application/vnd.google.colaboratory.intrinsic+json": {
              "type": "string"
            },
            "text/plain": [
              "'946'"
            ]
          },
          "metadata": {
            "tags": []
          },
          "execution_count": 1
        }
      ]
    },
    {
      "cell_type": "code",
      "metadata": {
        "colab": {
          "base_uri": "https://localhost:8080/"
        },
        "id": "YPqpWFGFEQI6",
        "outputId": "4cac0715-0aeb-49b1-b868-cfc39c91a9b8"
      },
      "source": [
        "jazz_types=(\"latin\", \"gypsy\", \"saxo\")\n",
        "jazz_types.index(\"saxo\")\n",
        "tupla1=(70, 44, 61, 33, 36, 30)\n",
        "lista1=sorted(tupla1)\n",
        "lista1"
      ],
      "execution_count": 8,
      "outputs": [
        {
          "output_type": "execute_result",
          "data": {
            "text/plain": [
              "[30, 33, 36, 44, 61, 70]"
            ]
          },
          "metadata": {
            "tags": []
          },
          "execution_count": 8
        }
      ]
    }
  ]
}